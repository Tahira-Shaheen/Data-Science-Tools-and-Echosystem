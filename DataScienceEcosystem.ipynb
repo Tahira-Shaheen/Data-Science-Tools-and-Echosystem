{
  "metadata": {
    "kernelspec": {
      "name": "python",
      "display_name": "Python (Pyodide)",
      "language": "python"
    },
    "language_info": {
      "codemirror_mode": {
        "name": "python",
        "version": 3
      },
      "file_extension": ".py",
      "mimetype": "text/x-python",
      "name": "python",
      "nbconvert_exporter": "python",
      "pygments_lexer": "ipython3",
      "version": "3.8"
    }
  },
  "nbformat_minor": 4,
  "nbformat": 4,
  "cells": [
    {
      "cell_type": "markdown",
      "source": "# Data Science Tools and Echosystem",
      "metadata": {}
    },
    {
      "cell_type": "markdown",
      "source": "# This notebook will summarize the Data Science Tools and Echosystem",
      "metadata": {}
    },
    {
      "cell_type": "markdown",
      "source": "# Popular Data Science languages\n\n1. Python\n2. R   \n3. SQL \n4. Scala\n5. C++ \n6. Julia\n7. Java ",
      "metadata": {}
    },
    {
      "cell_type": "markdown",
      "source": "# Commonly used Data Science Libraries\n\n1. Panda \n2. Numpy \n3. Matplotlip\n4. Seaborn",
      "metadata": {}
    },
    {
      "cell_type": "markdown",
      "source": "| Data Science Development Environment Tools |\n|--------------------|\n| Jupyter Notebook  |\n| R Studio         |\n| Watson Studio |",
      "metadata": {}
    },
    {
      "cell_type": "markdown",
      "source": "### Few examples of evaluating arithmetic expressions in Python",
      "metadata": {}
    },
    {
      "cell_type": "code",
      "source": "# Simple arithmetic expression to multiply then add integers\n(3*4)+5",
      "metadata": {
        "trusted": true
      },
      "outputs": [
        {
          "execution_count": 1,
          "output_type": "execute_result",
          "data": {
            "text/plain": "17"
          },
          "metadata": {}
        }
      ],
      "execution_count": 1
    },
    {
      "cell_type": "code",
      "source": "# This will convert 200 minutes to hours by diving by 60\n(200/60)",
      "metadata": {
        "trusted": true
      },
      "outputs": [
        {
          "execution_count": 2,
          "output_type": "execute_result",
          "data": {
            "text/plain": "3.3333333333333335"
          },
          "metadata": {}
        }
      ],
      "execution_count": 2
    },
    {
      "cell_type": "markdown",
      "source": " # Objectives \n * Popular Data Science Languages\n * Commonly used Data Science Libraries\n * Data Science Development Environment Tools\n * Few examples of arithmetic expressions",
      "metadata": {}
    },
    {
      "cell_type": "markdown",
      "source": "## Author\n Tahira ",
      "metadata": {}
    }
  ]
}